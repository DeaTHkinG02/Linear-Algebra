{
 "cells": [
  {
   "cell_type": "markdown",
   "metadata": {
    "id": "fis1w-TTVnuw"
   },
   "source": [
    "# **Лабораторная работа 2**\n",
    "# **Прикладная алгебра и численные методы**\n",
    "## Число обусловленности, круги Гершгорина, итерационные методы решения СЛАУ, теорема Фробениуса-Перрона, PageRank, собственные значения, характеристический многочлен, функции от матриц,  линейное программирование."
   ]
  },
  {
   "cell_type": "code",
   "execution_count": 2,
   "metadata": {
    "id": "mGFcxneQVnu6"
   },
   "outputs": [],
   "source": [
    "import numpy as np\n",
    "import pandas as pd\n",
    "import matplotlib.pyplot as plt\n",
    "import scipy\n",
    "from scipy import linalg as LA\n",
    "from scipy.optimize import linprog\n",
    "import sympy\n",
    "from IPython.display import Latex, Math"
   ]
  },
  {
   "cell_type": "code",
   "execution_count": 2,
   "metadata": {},
   "outputs": [],
   "source": [
    "file=r'C:\\Users\\ILYA\\Applied_Alg_2022\\Test2_vXX.xlsx'\n",
    "\n",
    "A1=pd.read_excel(file, sheet_name='A1',header=None).values\n",
    "b1=pd.read_excel(file, sheet_name='b1',header=None).squeeze(\"columns\").values\n",
    "Delta_A1=pd.read_excel(file, sheet_name='DeltaA1',header=None).values\n",
    "Delta_b1=pd.read_excel(file, sheet_name='Deltab1',header=None).squeeze('columns').values\n",
    "\n",
    "A4=pd.read_excel(file, sheet_name='A4',dtype=complex,header=None).values\n",
    "\n",
    "A5=pd.read_excel(file,sheet_name='A5',header=None).values\n",
    "b5=pd.read_excel(file,sheet_name='b5',header=None).squeeze('columns').values\n",
    "\n",
    "A7=pd.read_excel(file,sheet_name='A7',header=None).values\n",
    "\n",
    "A9=pd.read_excel(file,sheet_name='A9',header=None,dtype=complex).values"
   ]
  },
  {
   "cell_type": "markdown",
   "metadata": {
    "id": "_y38fB3BOqNU"
   },
   "source": [
    "## Задание 1 Число обусловленности. Погрешность решения СЛАУ. \n",
    "\n",
    "Считать данные из файла Test2_vXX.xlsx, на листе A1 матрица левой части СЛАУ $AX = b$.\n",
    "\n",
    "Найти число обусловленности матрицы $A_1$ в нормах 1, 2, inf. \n",
    "Вывести на экран найденные значения числа обусловленности.\n",
    "\n",
    "Считать из файла Test2_vXX.xlsx $b_1$ - вектор правой части СЛАУ, на листе 'b1'.\n",
    "\n",
    "К матрице  $A_1$ Задания 1 прибавить матрицу искажений с листа  DeltaA1,\n",
    "к столбцу $b_1$ прибавить столбец искажений с листа  Deltab1. \n",
    "\n",
    "Найти решения исходной и искаженной СЛАУ с помощью np.linalg.solve, вычислить норму (1, 2, inf) их разности, вывести на экран решения и нормы их разности."
   ]
  },
  {
   "cell_type": "code",
   "execution_count": 6,
   "metadata": {
    "id": "Xy-7Qu_FxYXC"
   },
   "outputs": [
    {
     "name": "stdout",
     "output_type": "stream",
     "text": [
      "cond(A1, 1)  = 158.7378347362145\n",
      "cond(A1, 2)  = 30.46002916106172\n",
      "cond(A1, inf)  = 147.04643142562253\n",
      "\n",
      "sol=\n",
      "[-6.  9. -5.  9.  1. -2. -2. -1.  4.  1.  1. -4. -4. -6.  6. -6. -2.  8.\n",
      " -8.  5. -3.  5. -6.  4.]\n",
      "\n",
      "new_sol=\n",
      "[-5.99965627  8.99989961 -5.00115774  8.99794825  0.99796193 -2.00239587\n",
      " -1.99658424 -1.00144452  3.99580848  1.00127245  0.99858012 -3.99856859\n",
      " -3.99692559 -6.00156288  6.00213851 -6.00025344 -2.00250579  7.99869097\n",
      " -7.99876268  5.00193934 -2.99848862  5.00298926 -5.99576808  4.00211276]\n",
      "\n",
      "\n",
      "norm(sol, 1)  = 108.0\n",
      "norm(sol, 2)  = 25.18\n",
      "norm(sol, inf)  = 9.0\n",
      "norm(new_sol, 1)  = 107.99\n",
      "norm(new_sol, 2)  = 25.18\n",
      "norm(new_sol, inf)  = 9.0\n",
      "\n",
      "\n",
      "norm(sol-new_sol, 1)  = 0.05\n",
      "norm(sol-new_sol, 2)  = 0.01\n",
      "norm(sol-new_sol, inf)  = 0.0\n"
     ]
    }
   ],
   "source": [
    "cond=lambda M,p:np.linalg.cond(M, p=p)\n",
    "\n",
    "print( *[f'cond(A1, {item})  = {cond(A1,item)}' for item in (1, 2, np.inf)], sep='\\n')\n",
    "\n",
    "sol=LA.solve(A1,b1)\n",
    "new_sol=LA.solve(A1+Delta_A1,b1+Delta_b1)\n",
    "norms=[[f'norm({rest}, {item})  = {round(np.linalg.norm(res, ord=item), 2)}' for item in (1, 2, np.inf)] for res,rest in zip([sol,new_sol],['sol','new_sol'])]\n",
    "\n",
    "print(f'\\nsol=\\n{sol}\\n\\nnew_sol=\\n{new_sol}\\n\\n')\n",
    "\n",
    "for i in norms:\n",
    "    print( *i, sep='\\n')\n",
    "    \n",
    "print('\\n')\n",
    "print( *[f'norm(sol-new_sol, {item})  = {round(np.linalg.norm(sol-new_sol, ord=item), 2)}' for item in (1, 2, np.inf)], sep='\\n')    "
   ]
  },
  {
   "cell_type": "markdown",
   "metadata": {
    "id": "J2hif_lE7iOB"
   },
   "source": [
    "## Задание 2 Погрешность решения СЛАУ. \n",
    "Проверить, что для СЛАУ Задания 1 выполняется неравенство:\n",
    "$$\n",
    "(1)\\qquad\\frac{\\delta b}{\\chi(A)}  \\le \\delta \n",
    "X \\le \\chi(A)\\delta b, \\quad где\\ \\chi(A)\\ число\\ обусловленности,\\quad  \\delta \n",
    "X = \\frac{||\\Delta X||}{||X||}, \\quad  \\delta b = \\frac{||\\Delta b||}{||b||},\n",
    "$$\n",
    "где $\\Delta X = X - X^*$ - разность точного решения $X$ СЛАУ $A_1X = b$ и $X^*$ - решения искаженной СЛАУ $A_1X = b^*$, $b^* = b + \\Delta b$,\n",
    "$\\Delta b$ - столбец искажений с листа Deltab1.\n",
    "\n",
    "Внимание!!! $X^*$ не из Задания 1, $X^*$ - решение СЛАУ с неискаженной матрицей левой части $A_1$!\n",
    "\n",
    "Норма 2-norm, (т.е. для матрицы спектральная, для вектора - Евклидова).\n",
    "\n",
    "Вывести на экран значения  $\\delta X$, $\\delta b$, $\\frac{\\delta b}{\\chi(A)}$, $\\chi(A)\\delta b$ и результат проверки выполнения неравенств (текст \"Верно\" или \"Неверно\", он должен быть получен автоматически на основе вычислений).\n",
    "\n",
    "Показать, что для $X^*$ из Задания 1 неравенства (1) НЕ выполняются.\n",
    "\n",
    "Показать, что для $X^*$ из Задания 1 выполняется неравенство:\n",
    "$$\n",
    "(2)\\qquad\\frac{\\delta b + \\delta A}{\\chi(A)}  \\le \\delta \n",
    "X \\le \\chi(A)(\\delta b  + \\delta A).\n",
    "$$"
   ]
  },
  {
   "cell_type": "code",
   "execution_count": 7,
   "metadata": {
    "id": "ncxwLcHlxafG"
   },
   "outputs": [
    {
     "name": "stdout",
     "output_type": "stream",
     "text": [
      "delta_solution1=1.563504323088182e-05\n",
      "delta_b=3.831495628983537e-06\n",
      "lower_bound1=1.257876546579769e-07\n",
      "upper_bound1=0.00011670746858931905\n",
      "\n",
      "True\n",
      "False\n",
      "True\n"
     ]
    }
   ],
   "source": [
    "def inequality(A,Delta_A,b,Delta_b,p,fully_disdtorted=False):\n",
    "    solution=LA.solve(A,b)\n",
    "    \n",
    "    if fully_disdtorted==False:\n",
    "        distorted_solution=LA.solve(A,b+Delta_b)\n",
    "        delta_A=0\n",
    "    elif fully_disdtorted==True:   \n",
    "        distorted_solution=LA.solve(A+Delta_A,b+Delta_b)\n",
    "        delta_A=LA.norm(Delta_A,p)/LA.norm(A,p)\n",
    "    \n",
    "    Delta_solution=solution-distorted_solution\n",
    "    delta_solution=LA.norm(Delta_solution,p)/LA.norm(solution,p)\n",
    "    delta_b=LA.norm(Delta_b,p)/LA.norm(b,p)\n",
    "    \n",
    "    lower_bound=(delta_b+delta_A)/cond(A,p)\n",
    "    upper_bound=(delta_b+delta_A)*cond(A,p)\n",
    "    \n",
    "    return lower_bound,delta_solution,upper_bound,delta_b,delta_A\n",
    "\n",
    "lower_bound1,delta_solution1,upper_bound1,delta_b,_=inequality(A1,Delta_A1,b1,Delta_b1,2)\n",
    "lower_bound2,delta_solution2,upper_bound2,delta_b,delta_A1=inequality(A1,Delta_A1,b1,Delta_b1,2,True)\n",
    "\n",
    "print(f'delta_solution1={delta_solution1}')\n",
    "print(f'delta_b={delta_b}')\n",
    "print(f'lower_bound1={lower_bound1}')\n",
    "print(f'upper_bound1={upper_bound1}\\n')\n",
    "\n",
    "print(lower_bound1<=delta_solution1<=upper_bound1)\n",
    "print(lower_bound1<=delta_solution2<=upper_bound1)\n",
    "print(lower_bound2<=delta_solution2<=upper_bound2)\n"
   ]
  },
  {
   "cell_type": "markdown",
   "metadata": {
    "id": "Utp2ZmUUQ4fg"
   },
   "source": [
    "## Задание 3 Погрешность обратной матрицы. \n",
    "Для матрицы $A_1$ Задания 1 оценить сверху погрешность приближения обратной матрицы $\\hat A = A_1 + \\Delta A_1$ при условии, что $\\Delta A_1$ -  матрица  искажений с листа  DeltaA1 файла Test2_vXX.xlsx. \n",
    "Для оценки использовать неравенство \n",
    "$$\n",
    "(3)\\qquad \\delta  A_1^{-1} \\le \\frac{\\chi(A_1)\\delta A_1}{1 - \\chi(A_1)\\delta A_1}, \\quad \n",
    "  \\delta  A_1^{-1} = \\frac{||{\\hat A_1}^{-1} - A_1^{-1}||}{||A_1^{-1}||},\\quad \n",
    " \\delta A_1 = \\frac{||\\Delta A_1||}{||A_1||}.\n",
    "$$\n",
    "\n",
    "Найти обратные матрицы для $A_1$ и $\\hat A_1$. Сравнить $\\delta  A_1^{-1} = \\frac{||{\\hat A_1}^{-1} - A_1^{-1}||}{||A_1^{-1}||}$ и правую часть неравенства, проверить выполнение неравенства.\n",
    "\n",
    "Вывести на экран значение левой и правой частей неравенства  и результат проверки выполнения неравенств (текст \"Верно\" или \"Неверно\", он должен быть получен автоматически на основе вычислений)."
   ]
  },
  {
   "cell_type": "code",
   "execution_count": 15,
   "metadata": {
    "id": "naTJbODUxb42"
   },
   "outputs": [
    {
     "data": {
      "text/plain": [
       "0.0058321255191607895"
      ]
     },
     "execution_count": 15,
     "metadata": {},
     "output_type": "execute_result"
    }
   ],
   "source": [
    "distorted_A1=[[-1,6],[4,-1]]\n",
    "distorted_A1_inv=LA.inv(distorted_A1)\n",
    "delta_A1=LA.norm(0.01*np.array([[1,1],[1,1]]),ord=1)/LA.norm(distorted_A1)\n",
    "upper_bound_inv=np.linalg.cond(distorted_A1,1)*delta_A1/(1-np.linalg.cond(distorted_A1,1)*delta_A1)\n",
    "\n",
    "upper_bound_inv"
   ]
  },
  {
   "cell_type": "markdown",
   "metadata": {
    "id": "06HwHg7DCA4D"
   },
   "source": [
    "## Задание 4 Круги Гершгорина.\n",
    "\n",
    "Для матрицы $A_4$ из файла  Test2_vXX.xlsx (лист A4) изобразить на графике круги Гершгорина. \n",
    "\n",
    "\n",
    "Красными плюсами отметить на отдельном графике собственные значения матрицы $A_4$."
   ]
  },
  {
   "cell_type": "code",
   "execution_count": 9,
   "metadata": {
    "id": "pB1vDSSSxdHm"
   },
   "outputs": [
    {
     "data": {
      "image/png": "[encoded data removed]",
      "text/plain": [
       "<Figure size 432x288 with 1 Axes>"
      ]
     },
     "metadata": {
      "needs_background": "light"
     },
     "output_type": "display_data"
    },
    {
     "data": {
      "image/png": "[encoded data removed]",
      "text/plain": [
       "<Figure size 432x288 with 1 Axes>"
      ]
     },
     "metadata": {
      "needs_background": "light"
     },
     "output_type": "display_data"
    }
   ],
   "source": [
    "def Gershgorin_circle(M):\n",
    "    centers=np.diag(M)\n",
    "    radius=[sum(abs(i)) for i in M]-abs(centers)\n",
    "    eigvals=LA.eigvals(M)\n",
    "    \n",
    "    t=np.linspace(0,2*np.pi,200)\n",
    "    x=np.cos(t)\n",
    "    y=np.sin(t)\n",
    "    \n",
    "    fig,ax=plt.subplots()\n",
    "    ax.set_facecolor('black')\n",
    "    ax.axis('equal')\n",
    "    \n",
    "    fig1,ax1=plt.subplots()\n",
    "    ax1.set_facecolor('black')\n",
    "    ax1.axis('equal')\n",
    "    \n",
    "    for c,r,l in zip(centers,radius,eigvals):\n",
    "        ax.plot(x*r+np.real(c),y*r+np.imag(c))\n",
    "        ax1.scatter(np.real(l),np.imag(l),c='red',marker='+')\n",
    "        ax.scatter(np.real(l),np.imag(l),c='red',marker='+')     \n",
    "    return\n",
    "Gershgorin_circle(A4)"
   ]
  },
  {
   "cell_type": "markdown",
   "metadata": {
    "id": "iXAMsPy2PdMF"
   },
   "source": [
    "## Задание 5 Итерационные методы решения СЛАУ.\n",
    "Написать функцию, решающую СЛАУ методом верхней релаксации (с выбором оптимального значения $\\tau$). По умолчанию точность 0.01. \n",
    "Решить с помощью этой функции СЛАУ из файла Test2_vXX.xlsx (на листе A5 матрица левой части, на листе b5 - вектор правой части)."
   ]
  },
  {
   "cell_type": "code",
   "execution_count": 19,
   "metadata": {
    "id": "IEhoXYNBxe9O"
   },
   "outputs": [
    {
     "data": {
      "text/plain": [
       "array([ 1.48148148,  2.15497076, -0.14068826])"
      ]
     },
     "execution_count": 19,
     "metadata": {},
     "output_type": "execute_result"
    }
   ],
   "source": [
    "A5=np.array([[27,6,8],[6,19,3],[3,8,26]])\n",
    "b=np.array([6,8,5])\n",
    "def solver(A,b,tau, convergence_criteria):\n",
    "    x0=b\n",
    "    L = scipy.linalg.tril(A, -1)\n",
    "    D = scipy.linalg.triu(scipy.linalg.tril(A, 0), 0)\n",
    "    inv=np.linalg.inv(D-tau*L)\n",
    "    for i in range(1):\n",
    "        x_new=inv@(tau*(b-A@x0))+x0\n",
    "        x0=x_new\n",
    "    return x_new \n",
    "\n",
    "\n",
    "vals=np.linalg.eigvals(A5)\n",
    "vals=np.sort(vals)\n",
    "\n",
    "initial_guess = np.zeros(A5.shape[0])\n",
    "residual_convergence = 1e-8\n",
    "omega =0.5\n",
    "solver(A5,b,0.)"
   ]
  },
  {
   "cell_type": "code",
   "execution_count": 11,
   "metadata": {},
   "outputs": [
    {
     "name": "stdout",
     "output_type": "stream",
     "text": [
      "12.9 µs ± 2.36 µs per loop (mean ± std. dev. of 7 runs, 100000 loops each)\n"
     ]
    }
   ],
   "source": [
    "%%timeit\n",
    "sor_solver(A5, b5, omega, initial_guess, residual_convergence)\n"
   ]
  },
  {
   "cell_type": "code",
   "execution_count": 12,
   "metadata": {},
   "outputs": [
    {
     "name": "stdout",
     "output_type": "stream",
     "text": [
      "71.6 µs ± 1.83 µs per loop (mean ± std. dev. of 7 runs, 10000 loops each)\n"
     ]
    }
   ],
   "source": [
    "%%timeit\n",
    "solver(A5, b5,2/(vals[0]+vals[-1]), residual_convergence)"
   ]
  },
  {
   "cell_type": "markdown",
   "metadata": {
    "id": "sbLXJaFN4oC1"
   },
   "source": [
    "## Задание 6 Теорема Фробениуса-Перрона.\n",
    "\n",
    "Для графа из файла Test2_graph6_vXX.jpg построить и вывести на экран матрицу смежности. Найти и вывести на экран модули всех собственных значений матрицы смежности, максимальное по модулю собственное значение матрицы смежности и соответствующий (положительный!) единичный собственный вектор (норма 2).\n",
    "\n",
    "Проверить, что модули остальных собственных значений меньше."
   ]
  },
  {
   "cell_type": "code",
   "execution_count": 13,
   "metadata": {
    "id": "0sDGW40TxgeV"
   },
   "outputs": [
    {
     "data": {
      "text/plain": [
       "[[0, 3, 0, 0, 7],\n",
       " [3, 0, 2, 0, 1],\n",
       " [0, 2, 0, 1, 3],\n",
       " [0, 0, 1, 0, 9],\n",
       " [7, 1, 3, 9, 0]]"
      ]
     },
     "metadata": {},
     "output_type": "display_data"
    },
    {
     "name": "stdout",
     "output_type": "stream",
     "text": [
      "eigenvalues: 11.68554973478659 12.478034011284485 3.2591194131852443 0.21287873850486883 2.2537563981824804\n",
      "max_eigenvalue is\t12.48,\tvector:[0.07870656 0.19535643 0.67288735 0.17359384 0.68755286],length=1.0\n",
      "\n",
      "is the biggest 12.478034011284485?\tTrue\n"
     ]
    }
   ],
   "source": [
    "A6=[[0,3,0,0,7],[3,0,2,0,1],[0,2,0,1,3],[0,0,1,0,9],[7,1,3,9,0]]\n",
    "vals,vects=np.linalg.eig(A6)\n",
    "vects*=-1\n",
    "argmax=np.argmax(vals)\n",
    "display(A6)\n",
    "print('eigenvalues:',*abs(vals))\n",
    "print(f'max_eigenvalue is\\t{round(vals[argmax],2)},\\tvector:{vects[argmax]},length={np.linalg.norm(vects[argmax])}')\n",
    "print(f'\\nis the biggest {vals[argmax]}?\\t{all(vals[argmax]>=abs(vals))}')"
   ]
  },
  {
   "cell_type": "markdown",
   "metadata": {
    "id": "NVfw1t_IP7Wx"
   },
   "source": [
    "## Задание 7.\n",
    "Найти самую влиятельную вершину в графе, заданном матрицей смежности из файла Test2_vXX.xlsx, на листе A7."
   ]
  },
  {
   "cell_type": "code",
   "execution_count": 14,
   "metadata": {
    "id": "ErqliNNgxht2"
   },
   "outputs": [
    {
     "name": "stdout",
     "output_type": "stream",
     "text": [
      "the 1th node is the most influential\n",
      "\n",
      " [0.50290124 0.29902236 0.19028696 0.78833168]\n",
      "\n",
      " [[-0.50290124 -0.21038336 -0.21038336  0.22947508]\n",
      " [-0.29902236  0.45687914  0.45687914  0.23765733]\n",
      " [-0.19028696  0.30209158  0.30209158 -0.85876771]\n",
      " [-0.78833168 -0.54858736 -0.54858736  0.39163529]]\n"
     ]
    }
   ],
   "source": [
    "def task7(A):\n",
    "    x0=np.array([1,1,1,1])\n",
    "\n",
    "    for i in range(20):\n",
    "        x0=A@x0\n",
    "        \n",
    "    x0=x0/LA.norm(x0)\n",
    "    vects=np.real(LA.eig(A)[1])\n",
    "    for i in range(len(vects)):\n",
    "        if np.allclose(vects[:,i],x0) or np.allclose(vects[:,i],-x0):\n",
    "            print(f'the {i+1}th node is the most influential')\n",
    "            print('\\n',x0)\n",
    "            print('\\n',vects)\n",
    "        break\n",
    "            \n",
    "task7(A7)"
   ]
  },
  {
   "cell_type": "markdown",
   "metadata": {
    "id": "DY3eivMDP8t0"
   },
   "source": [
    "## Задание 8 Собственные значения.\n",
    "## Метод вращений (Якоби)\n",
    "Методом вращений найти собственные числа и собственные векторы матрицы из файла Test2_vXX.xlsx (лист A8). \n",
    "\n",
    "Записать в файл Problem8res.xlsx на лист 'Eigen values' собственные числа и соответствующие собственные векторы (в строчку!), собственные числа служат индексами."
   ]
  },
  {
   "cell_type": "code",
   "execution_count": 3,
   "metadata": {
    "id": "XVH3fIL2xjL-"
   },
   "outputs": [
    {
     "name": "stdout",
     "output_type": "stream",
     "text": [
      "[[-1 -2 -2]\n",
      " [-2 -2 -7]\n",
      " [-2 -7 -2]] \n",
      "\n",
      "[[ 1.          0.          0.        ]\n",
      " [ 0.          0.70710678  0.70710678]\n",
      " [ 0.         -0.70710678  0.70710678]] \n",
      "\n",
      "[[-1.          0.         -2.82842712]\n",
      " [ 0.          5.          0.        ]\n",
      " [-2.82842712  0.         -9.        ]] \n",
      "\n",
      "[[ 0.95302061  0.          0.30290545]\n",
      " [ 0.          1.          0.        ]\n",
      " [-0.30290545  0.          0.95302061]] \n",
      "\n",
      "Lambda[:10, :10]\n",
      "[[-0.1  0.  -0. ]\n",
      " [ 0.   5.   0. ]\n",
      " [-0.   0.  -9.9]]\n",
      "T[:10, :10]\n",
      "[[ 0.95  0.    0.3 ]\n",
      " [-0.21  0.71  0.67]\n",
      " [-0.21 -0.71  0.67]]\n",
      "число итераций 2\n"
     ]
    }
   ],
   "source": [
    "def Tij(Ak, i, j):\n",
    "    aii, ajj, aij = [Ak[i, j] for (i, j) in ((i, i), (j, j), (i, j))]\n",
    "    if aij == 0:\n",
    "        return np.eye(Ak.shape[0])\n",
    "    if np.allclose(aii, ajj):\n",
    "        cosphi = sinphi = np.sqrt(2) / 2\n",
    "        if aij < 0:\n",
    "            sinphi *= -1\n",
    "    else:\n",
    "        tan2phi = 2 * aij / (aii - ajj)\n",
    "        cos2phi = 1 / np.sqrt(1 + tan2phi ** 2) \n",
    "        cosphi = np.sqrt((1 + cos2phi) / 2) \n",
    "        sinphi = np.sqrt((1 - cos2phi) / 2)   \n",
    "        if aij * (aii - ajj) < 0:\n",
    "            sinphi *= -1\n",
    "    Ak1 = np.eye(Ak.shape[0])\n",
    "    Ak1[i, i] = Ak1[j, j] = cosphi\n",
    "    Ak1[i, j] = -sinphi\n",
    "    Ak1[j, i] = sinphi   \n",
    "    return Ak1\n",
    "\n",
    "def jacobi_my(A, tol=0.001, max_iter=1000):\n",
    "    n = A.shape[0]\n",
    "    Ak = A\n",
    "    Tk = np.eye(n)\n",
    "    for k in range(max_iter):\n",
    "        ij = np.argmax(abs(Ak - np.diag(np.diag(Ak)))) # argmax возвращает номер максимального элемента в развернутом (flatten) массиве.\n",
    "        i = ij // n\n",
    "        j = ij % n\n",
    "        if abs(Ak[i, j]) < tol:\n",
    "            break\n",
    "        print(Ak,'\\n')    \n",
    "        Tij_ = Tij(Ak, i, j)\n",
    "        print(Tij_,'\\n')\n",
    "        Ak = Tij_.T @ Ak @ Tij_\n",
    "        Tk = Tk @ Tij_\n",
    "    if np.max(abs(Ak - np.diag(np.diag(Ak)))) > tol:\n",
    "        return (np.zeros(Ak.shape[0]), np.zeros(Ak.shape[0]), k)  \n",
    "    return (Ak, Tk, k) \n",
    "\n",
    "A2=-1*np.array([[1,2,2],[2,2,7],[2,7,2]])\n",
    "Lambda, Tmatr, iter_num = jacobi_my(A2, tol=0.001, max_iter=100000)\n",
    "print(f'Lambda[:10, :10]\\n{Lambda[:10, :10].round(2)}\\nT[:10, :10]\\n{Tmatr[:10, :10].round(2)}\\nчисло итераций {iter_num}')"
   ]
  },
  {
   "cell_type": "markdown",
   "metadata": {
    "id": "ADU0oRjIP-lU"
   },
   "source": [
    "## Задание 9 Характеристический многочлен. Функции от матриц.\n",
    "Для матрицы $A_9$ из файла Test2_vXX.xlsx, лист A9, вычислить $\\cos(A_9) + i\\sin(A_9)$. \n",
    "По формулам Ньютона найти коэффициенты характеристического многочлена матрицы $\\cos(A_9) + i\\sin(A_9)$. Составить и вывести на экран характеристический многочлен.\n"
   ]
  },
  {
   "cell_type": "code",
   "execution_count": 3,
   "metadata": {
    "id": "MziCZHZLxloP"
   },
   "outputs": [
    {
     "data": {
      "text/latex": [
       "$\\displaystyle x^{4} + x^{3} \\left(1151686.14907013 + 346235.412324702 i\\right) + x^{2} \\left(298441.828979492 + 2162099.14764404 i\\right) + x \\left(-1014692.19504801 + 645299.210123698 i\\right) + 43300049.9130859 - 72238617.4371338 i$"
      ],
      "text/plain": [
       "x**4 + x**3*(1151686.14907013 + 346235.412324702*I) + x**2*(298441.828979492 + 2162099.14764404*I) + x*(-1014692.19504801 + 645299.210123698*I) + 43300049.9130859 - 72238617.4371338*I"
      ]
     },
     "metadata": {},
     "output_type": "display_data"
    }
   ],
   "source": [
    "A=LA.cosm(A9)+1j*LA.sinm(A9)\n",
    "n = A.shape[1]\n",
    "x=sympy.Symbol('x')\n",
    "p_k = [np.trace(np.linalg.matrix_power(A, k)) for k in range(1, n + 1)]\n",
    "b1 = -p_k[0]\n",
    "b2 = -((p_k[1] + b1*p_k[0])/2)\n",
    "b3 = -((p_k[2] + b1*p_k[1] + b2*p_k[0])/3)\n",
    "b4 = -((p_k[3] + b1*p_k[2] + b2*p_k[1] + b3*p_k[0])/4)\n",
    "my_poly3 = sum([item*x**(4 - k) for k, item in enumerate([1, b1, b2, b3, b4])])   \n",
    "display(my_poly3)"
   ]
  },
  {
   "cell_type": "markdown",
   "metadata": {
    "id": "fiOP6GskQAVE"
   },
   "source": [
    "## Задание 10  Линейное программирование.\n",
    "\n",
    "Решить симплекс методом задачу линейного программирования\n",
    "$$\n",
    "z=2x_1+5x_2\\to\\max\\\\\n",
    "\\left\\{\n",
    "\\begin{matrix}\n",
    "2x_1-5x_2\\ge0\\\\\n",
    "x_1+x_2\\le10\\\\\n",
    "x_1+8x_2\\le17\\\\\n",
    "x_1,x_2\\ge0    \n",
    "\\end{matrix}\n",
    "\\right.\n",
    "$$"
   ]
  },
  {
   "cell_type": "code",
   "execution_count": 23,
   "metadata": {
    "id": "6EZIeYL2xnTG"
   },
   "outputs": [
    {
     "data": {
      "text/plain": [
       "     con: array([], dtype=float64)\n",
       "     fun: -22.999999776850544\n",
       " message: 'Optimization terminated successfully.'\n",
       "     nit: 5\n",
       "   slack: array([1.29999999e+01, 8.83994034e-08, 1.96550914e-07])\n",
       "  status: 0\n",
       " success: True\n",
       "       x: array([8.99999993, 0.99999998])"
      ]
     },
     "execution_count": 23,
     "metadata": {},
     "output_type": "execute_result"
    }
   ],
   "source": [
    "f=[[-2],[-5]]\n",
    "M=[[-2,5],[1,1],[1,8]]\n",
    "b = [[0], [10], [17]]\n",
    "x1_bounds = (0, None)\n",
    "x2_bounds = (0, None)\n",
    "res = linprog(f, A_ub=M, b_ub=b, bounds=[x1_bounds, x2_bounds])\n",
    "res"
   ]
  },
  {
   "cell_type": "code",
   "execution_count": 125,
   "metadata": {},
   "outputs": [
    {
     "data": {
      "text/plain": [
       "array([0.12048398, 0.37295501, 0.06365031])"
      ]
     },
     "execution_count": 125,
     "metadata": {},
     "output_type": "execute_result"
    }
   ],
   "source": [
    "k=100\n",
    "A=np.array([[27,6,8],[6,19,3],[3,8,26]])\n",
    "b=np.array([6,8,5])\n",
    "E=np.identity(3)\n",
    "res=np.linalg.solve(A,b)\n",
    "res"
   ]
  },
  {
   "cell_type": "code",
   "execution_count": 118,
   "metadata": {},
   "outputs": [],
   "source": [
    "P=np.array([[0,6/27,8/27],[6/19,0,3/19],[3/26,8/26,0]])*(-1)\n",
    "bn=np.array([6/27,8/19,5/26])"
   ]
  },
  {
   "cell_type": "code",
   "execution_count": 150,
   "metadata": {},
   "outputs": [
    {
     "data": {
      "text/plain": [
       "8"
      ]
     },
     "execution_count": 150,
     "metadata": {},
     "output_type": "execute_result"
    }
   ],
   "source": [
    "x_prev=np.array([0,0,0])\n",
    "x_new=np.array([5,5,5])\n",
    "k=0\n",
    "while np.linalg.norm(x_new-res,np.inf)>0.001:\n",
    "    k=k+1\n",
    "    x_new=P@x_prev+bn\n",
    "    x_prev=x_new\n",
    "k    "
   ]
  },
  {
   "cell_type": "code",
   "execution_count": 151,
   "metadata": {},
   "outputs": [
    {
     "data": {
      "text/plain": [
       "array([0.11998251, 0.37247696, 0.06320925])"
      ]
     },
     "execution_count": 151,
     "metadata": {},
     "output_type": "execute_result"
    }
   ],
   "source": [
    "x_new"
   ]
  },
  {
   "cell_type": "code",
   "execution_count": 152,
   "metadata": {},
   "outputs": [
    {
     "data": {
      "text/plain": [
       "10.31342326418903"
      ]
     },
     "execution_count": 152,
     "metadata": {},
     "output_type": "execute_result"
    }
   ],
   "source": [
    "import math\n",
    "eps=0.001\n",
    "math.log((1-np.linalg.norm(P,np.inf))*eps/np.linalg.norm(bn,np.inf),np.linalg.norm(P,np.inf))"
   ]
  },
  {
   "cell_type": "code",
   "execution_count": null,
   "metadata": {},
   "outputs": [],
   "source": []
  }
 ],
 "metadata": {
  "colab": {
   "collapsed_sections": [],
   "name": "Applied_Alg_2022_КР_2.ipynb",
   "provenance": []
  },
  "kernelspec": {
   "display_name": "Python 3",
   "language": "python",
   "name": "python3"
  },
  "language_info": {
   "codemirror_mode": {
    "name": "ipython",
    "version": 3
   },
   "file_extension": ".py",
   "mimetype": "text/x-python",
   "name": "python",
   "nbconvert_exporter": "python",
   "pygments_lexer": "ipython3",
   "version": "3.8.5"
  }
 },
 "nbformat": 4,
 "nbformat_minor": 1
}

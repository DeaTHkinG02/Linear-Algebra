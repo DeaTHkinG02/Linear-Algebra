{
  "nbformat": 4,
  "nbformat_minor": 0,
  "metadata": {
    "colab": {
      "provenance": [],
      "authorship_tag": "ABX9TyPgRz2QIvV591WMROYQmuC+",
      "include_colab_link": true
    },
    "kernelspec": {
      "name": "python3",
      "display_name": "Python 3"
    },
    "language_info": {
      "name": "python"
    }
  },
  "cells": [
    {
      "cell_type": "markdown",
      "metadata": {
        "id": "view-in-github",
        "colab_type": "text"
      },
      "source": [
        "<a href=\"https://colab.research.google.com/github/DeaTHkinG02/Linear-Algebra/blob/main/Interpolation.ipynb\" target=\"_parent\"><img src=\"https://colab.research.google.com/assets/colab-badge.svg\" alt=\"Open In Colab\"/></a>"
      ]
    },
    {
      "cell_type": "code",
      "execution_count": 1,
      "metadata": {
        "id": "3fYCrqCUSR44"
      },
      "outputs": [],
      "source": [
        "from numpy import linalg,array,around,arange,linspace\n",
        "from scipy.special import binom,factorial\n",
        "from sympy import Matrix,Symbol,lambdify,print_latex\n",
        "from matplotlib.pyplot import subplots,show"
      ]
    },
    {
      "cell_type": "code",
      "source": [
        "class Make_Fun():\n",
        "    def __init__(self,data,power=False):\n",
        "        self.data=data\n",
        "        self.power=power\n",
        "\n",
        "    def rightdata(self,xs,ys):\n",
        "        return [list(tuple(zip(xs,ys)))]\n",
        "\n",
        "    def wrongdata(self,data):\n",
        "        xx,yy=[],[]\n",
        "        for i in data[0]:\n",
        "            xx.append(i[0])\n",
        "            yy.append(i[1])\n",
        "        return xx,yy\n",
        "\n",
        "    def plotter(self,data_to_plot,data_to_scatter=[]):\n",
        "        fig,ax=subplots()\n",
        "        ax.set_facecolor('black')\n",
        "        for i in data_to_plot:\n",
        "            xx,yy=i\n",
        "            ax.plot(xx,yy)\n",
        "        for i in data_to_scatter:\n",
        "            xx,yy=i\n",
        "            ax.scatter(xx,yy,c='purple')\n",
        "        return fig,ax\n",
        "\n",
        "    def Vander(self,data=False,power=False):\n",
        "        c=lambda j,k: factorial(j)/factorial(j-k) if j>=k else 0\n",
        "        data=self.data if data== False else data\n",
        "        power= power if powerIn > 0 else sum([len(i) for i in data])-1\n",
        "        Vander,V=[],[]\n",
        "        lk=len(data)\n",
        "        for k in range(lk):\n",
        "            lv=len(data[k])\n",
        "            for n in range(lv):\n",
        "                V.append(data[k][n][1])\n",
        "                N=[(c(j,k)*data[k][n][0]**max((j-k),0)) for j in range(power+1)]\n",
        "                Vander.append(N)\n",
        "        return array(Vander),array(V)\n",
        "\n",
        "    def fun(self,data=False,power=False,typefun='numfun'):\n",
        "        data = self.data if data==False else data\n",
        "        power= power if power > 0 else sum([len(i) for i in data])-1\n",
        "        Vander,V=self.Vander(data=data,power=power)\n",
        "        coefs=around(linalg.pinv(Vander)@V,10)\n",
        "        if typefun=='numfun':\n",
        "            x=arange(min([ i[0] for i in data[0]]),max([ i[0] for i in data[0]]),0.01)\n",
        "        if typefun=='symfun':\n",
        "            x=Symbol('x')\n",
        "        function=sum([coefs[i]*x**i for i in range(len(coefs))])\n",
        "        return x,function\n",
        "\n",
        "    def interpol(self,data=False,power=False):\n",
        "        data = self.data if data==False else data\n",
        "        power= power if power > 0 else sum([len(i) for i in data])-1\n",
        "        data_to_plot=[self.fun(power=power)]\n",
        "        data_to_scatter=[self.wrongdata(data)]\n",
        "        fig,_=self.plotter(data_to_plot,data_to_scatter)\n",
        "        return fig,self.fun(data,power,'symfun')\n",
        "\n",
        "    def casteljau(self,data=False):\n",
        "        data=self.data if data== False else data\n",
        "        n=len(data[0])-1\n",
        "        tt=arange(0,1,0.01)\n",
        "        if len(data)==1:\n",
        "            t=Symbol('t')\n",
        "            pols=[binom(n,k)*((1-t)**(n-k)*t**(k)) for k in range(n+1)]\n",
        "            x,y=0,0\n",
        "            xs,ys=[],[]\n",
        "            for i in range(len(data[0])):\n",
        "                dotx,doty=data[0][i][0],data[0][i][1]\n",
        "                xs.append(dotx)\n",
        "                ys.append(doty)\n",
        "                x+=pols[i]*dotx\n",
        "                y+=pols[i]*doty\n",
        "        data_to_plot=[[lambdify('t',x)(tt),lambdify('t',y)(tt)]]\n",
        "        data_to_scatter=[[xs,ys]]\n",
        "        fig1,_=self.plotter(data_to_plot,data_to_scatter)\n",
        "        return fig1"
      ],
      "metadata": {
        "id": "QCujmNutUM1X"
      },
      "execution_count": 2,
      "outputs": []
    },
    {
      "cell_type": "code",
      "source": [
        "data=[[(2,-7),(-1,19),(0,-5),(1,7)]]\n",
        "ex=Make_Fun(data)"
      ],
      "metadata": {
        "id": "UnDtHQEhUVqs"
      },
      "execution_count": 3,
      "outputs": []
    },
    {
      "cell_type": "code",
      "source": [
        "fig,fun=ex.interpol() # makes interpolation of data"
      ],
      "metadata": {
        "colab": {
          "base_uri": "https://localhost:8080/",
          "height": 267
        },
        "id": "eS7MtEDhUWXw",
        "outputId": "c7b34f54-7977-417c-bb8f-5e15db1da991"
      },
      "execution_count": null,
      "outputs": [
        {
          "output_type": "display_data",
          "data": {
            "text/plain": [
              "<Figure size 432x288 with 1 Axes>"
            ],
            "image/png": "[encoded data removed]"
          },
          "metadata": {
            "needs_background": "light"
          }
        }
      ]
    },
    {
      "cell_type": "code",
      "source": [
        "ex.casteljau()  # implemented Bezier curve by Casteljau algorithm"
      ],
      "metadata": {
        "colab": {
          "base_uri": "https://localhost:8080/",
          "height": 517
        },
        "id": "6lfBxIAYUblX",
        "outputId": "dc95c53f-5a0b-4493-f20e-8ceba8295e1b"
      },
      "execution_count": null,
      "outputs": [
        {
          "output_type": "execute_result",
          "data": {
            "text/plain": [
              "<Figure size 432x288 with 1 Axes>"
            ],
            "image/png": "[encoded data removed]"
          },
          "metadata": {},
          "execution_count": 15
        },
        {
          "output_type": "display_data",
          "data": {
            "text/plain": [
              "<Figure size 432x288 with 1 Axes>"
            ],
            "image/png": "[encoded data removed]"
          },
          "metadata": {
            "needs_background": "light"
          }
        }
      ]
    },
    {
      "cell_type": "code",
      "source": [],
      "metadata": {
        "id": "WH-neh7lVupb"
      },
      "execution_count": null,
      "outputs": []
    }
  ]
}